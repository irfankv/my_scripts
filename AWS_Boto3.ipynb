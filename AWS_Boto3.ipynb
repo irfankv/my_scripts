{
 "metadata": {
  "language_info": {
   "codemirror_mode": {
    "name": "ipython",
    "version": 3
   },
   "file_extension": ".py",
   "mimetype": "text/x-python",
   "name": "python",
   "nbconvert_exporter": "python",
   "pygments_lexer": "ipython3",
   "version": "3.8.3-final"
  },
  "orig_nbformat": 2,
  "kernelspec": {
   "name": "python3",
   "display_name": "Python 3.8.3 64-bit ('base': conda)",
   "metadata": {
    "interpreter": {
     "hash": "5d35789685dc30a7f880669a80e490747271394ca91f885278c381c5fb9c2dbc"
    }
   }
  }
 },
 "nbformat": 4,
 "nbformat_minor": 2,
 "cells": [
  {
   "cell_type": "code",
   "execution_count": 8,
   "metadata": {},
   "outputs": [],
   "source": [
    "import boto3"
   ]
  },
  {
   "cell_type": "code",
   "execution_count": 9,
   "metadata": {},
   "outputs": [],
   "source": [
    "dynamodb = boto3.resource('dynamodb', region_name='us-west-2')"
   ]
  },
  {
   "cell_type": "code",
   "execution_count": 10,
   "metadata": {},
   "outputs": [
    {
     "output_type": "execute_result",
     "data": {
      "text/plain": [
       "dynamodb.ServiceResource()"
      ]
     },
     "metadata": {},
     "execution_count": 10
    }
   ],
   "source": [
    "dynamodb"
   ]
  },
  {
   "cell_type": "code",
   "execution_count": 11,
   "metadata": {},
   "outputs": [],
   "source": [
    "table = dynamodb.Table('inventory')"
   ]
  },
  {
   "cell_type": "code",
   "execution_count": 18,
   "metadata": {},
   "outputs": [],
   "source": [
    "response = table.scan()"
   ]
  },
  {
   "cell_type": "code",
   "execution_count": 19,
   "metadata": {},
   "outputs": [
    {
     "output_type": "execute_result",
     "data": {
      "text/plain": [
       "{'Items': [{'category': 'laptops',\n",
       "   'description': 'Dell vostro 3000',\n",
       "   'price': Decimal('45000'),\n",
       "   'items': Decimal('500'),\n",
       "   'sku': 'sku00010'},\n",
       "  {'category': 'laptops',\n",
       "   'description': 'Dell lattitude 5000',\n",
       "   'price': Decimal('40000'),\n",
       "   'items': Decimal('400'),\n",
       "   'sku': 'sku00011'},\n",
       "  {'category': 'laptops',\n",
       "   'description': 'HP pavilion 4500',\n",
       "   'price': Decimal('42000'),\n",
       "   'items': Decimal('600'),\n",
       "   'sku': 'sku00012'},\n",
       "  {'category': 'tv',\n",
       "   'description': 'Samsung 52 inch TV',\n",
       "   'price': Decimal('190000'),\n",
       "   'items': Decimal('150'),\n",
       "   'sku': 'sku00002'}],\n",
       " 'Count': 4,\n",
       " 'ScannedCount': 4,\n",
       " 'ResponseMetadata': {'RequestId': 'LRMNARIF3Q6CEV5RMRNH462T3BVV4KQNSO5AEMVJF66Q9ASUAAJG',\n",
       "  'HTTPStatusCode': 200,\n",
       "  'HTTPHeaders': {'server': 'Server',\n",
       "   'date': 'Fri, 25 Dec 2020 06:25:23 GMT',\n",
       "   'content-type': 'application/x-amz-json-1.0',\n",
       "   'content-length': '571',\n",
       "   'connection': 'keep-alive',\n",
       "   'x-amzn-requestid': 'LRMNARIF3Q6CEV5RMRNH462T3BVV4KQNSO5AEMVJF66Q9ASUAAJG',\n",
       "   'x-amz-crc32': '889633300'},\n",
       "  'RetryAttempts': 0}}"
      ]
     },
     "metadata": {},
     "execution_count": 19
    }
   ],
   "source": [
    "response"
   ]
  },
  {
   "cell_type": "code",
   "execution_count": 20,
   "metadata": {},
   "outputs": [],
   "source": [
    "ec2_client = boto3.client(\"ec2\")"
   ]
  },
  {
   "cell_type": "code",
   "execution_count": 21,
   "metadata": {},
   "outputs": [
    {
     "output_type": "execute_result",
     "data": {
      "text/plain": [
       "{'Reservations': [{'Groups': [],\n",
       "   'Instances': [{'AmiLaunchIndex': 0,\n",
       "     'ImageId': 'ami-09ff87d8fad2e46d1',\n",
       "     'InstanceId': 'i-051b0259258b0a677',\n",
       "     'InstanceType': 't2.micro',\n",
       "     'KeyName': 'irfan',\n",
       "     'LaunchTime': datetime.datetime(2020, 12, 24, 5, 27, 27, tzinfo=tzutc()),\n",
       "     'Monitoring': {'State': 'disabled'},\n",
       "     'Placement': {'AvailabilityZone': 'us-west-2c',\n",
       "      'GroupName': '',\n",
       "      'Tenancy': 'default'},\n",
       "     'PrivateDnsName': 'ip-172-31-6-52.us-west-2.compute.internal',\n",
       "     'PrivateIpAddress': '172.31.6.52',\n",
       "     'ProductCodes': [],\n",
       "     'PublicDnsName': '',\n",
       "     'State': {'Code': 80, 'Name': 'stopped'},\n",
       "     'StateTransitionReason': 'User initiated (2020-12-24 05:45:41 GMT)',\n",
       "     'SubnetId': 'subnet-3f27cc62',\n",
       "     'VpcId': 'vpc-a9b23dd1',\n",
       "     'Architecture': 'x86_64',\n",
       "     'BlockDeviceMappings': [{'DeviceName': '/dev/xvda',\n",
       "       'Ebs': {'AttachTime': datetime.datetime(2020, 12, 24, 5, 27, 28, tzinfo=tzutc()),\n",
       "        'DeleteOnTermination': True,\n",
       "        'Status': 'attached',\n",
       "        'VolumeId': 'vol-079f6440930039cb2'}}],\n",
       "     'ClientToken': '',\n",
       "     'EbsOptimized': False,\n",
       "     'EnaSupport': True,\n",
       "     'Hypervisor': 'xen',\n",
       "     'NetworkInterfaces': [{'Attachment': {'AttachTime': datetime.datetime(2020, 12, 24, 5, 27, 27, tzinfo=tzutc()),\n",
       "        'AttachmentId': 'eni-attach-00b654e6c3020dc8e',\n",
       "        'DeleteOnTermination': True,\n",
       "        'DeviceIndex': 0,\n",
       "        'Status': 'attached',\n",
       "        'NetworkCardIndex': 0},\n",
       "       'Description': '',\n",
       "       'Groups': [{'GroupName': 'EC2-Advance-1',\n",
       "         'GroupId': 'sg-0c3b4d70b7e7b0e80'}],\n",
       "       'Ipv6Addresses': [],\n",
       "       'MacAddress': '0a:44:b3:c2:35:33',\n",
       "       'NetworkInterfaceId': 'eni-02864c36bad9b3ca0',\n",
       "       'OwnerId': '017852462880',\n",
       "       'PrivateDnsName': 'ip-172-31-6-52.us-west-2.compute.internal',\n",
       "       'PrivateIpAddress': '172.31.6.52',\n",
       "       'PrivateIpAddresses': [{'Primary': True,\n",
       "         'PrivateDnsName': 'ip-172-31-6-52.us-west-2.compute.internal',\n",
       "         'PrivateIpAddress': '172.31.6.52'}],\n",
       "       'SourceDestCheck': True,\n",
       "       'Status': 'in-use',\n",
       "       'SubnetId': 'subnet-3f27cc62',\n",
       "       'VpcId': 'vpc-a9b23dd1',\n",
       "       'InterfaceType': 'interface'}],\n",
       "     'RootDeviceName': '/dev/xvda',\n",
       "     'RootDeviceType': 'ebs',\n",
       "     'SecurityGroups': [{'GroupName': 'EC2-Advance-1',\n",
       "       'GroupId': 'sg-0c3b4d70b7e7b0e80'}],\n",
       "     'SourceDestCheck': True,\n",
       "     'StateReason': {'Code': 'Client.UserInitiatedShutdown',\n",
       "      'Message': 'Client.UserInitiatedShutdown: User initiated shutdown'},\n",
       "     'Tags': [{'Key': 'Name', 'Value': 'Application EC2 2'}],\n",
       "     'VirtualizationType': 'hvm',\n",
       "     'CpuOptions': {'CoreCount': 1, 'ThreadsPerCore': 1},\n",
       "     'CapacityReservationSpecification': {'CapacityReservationPreference': 'open'},\n",
       "     'HibernationOptions': {'Configured': False},\n",
       "     'MetadataOptions': {'State': 'applied',\n",
       "      'HttpTokens': 'optional',\n",
       "      'HttpPutResponseHopLimit': 1,\n",
       "      'HttpEndpoint': 'enabled'},\n",
       "     'EnclaveOptions': {'Enabled': False}}],\n",
       "   'OwnerId': '017852462880',\n",
       "   'ReservationId': 'r-0914838e74821bed4'},\n",
       "  {'Groups': [],\n",
       "   'Instances': [{'AmiLaunchIndex': 0,\n",
       "     'ImageId': 'ami-0a36eb8fadc976275',\n",
       "     'InstanceId': 'i-0fd42899894206841',\n",
       "     'InstanceType': 't2.micro',\n",
       "     'KeyName': 'irfan',\n",
       "     'LaunchTime': datetime.datetime(2020, 12, 24, 5, 8, 31, tzinfo=tzutc()),\n",
       "     'Monitoring': {'State': 'disabled'},\n",
       "     'Placement': {'AvailabilityZone': 'us-west-2b',\n",
       "      'GroupName': '',\n",
       "      'Tenancy': 'default'},\n",
       "     'PrivateDnsName': 'ip-172-31-17-166.us-west-2.compute.internal',\n",
       "     'PrivateIpAddress': '172.31.17.166',\n",
       "     'ProductCodes': [],\n",
       "     'PublicDnsName': '',\n",
       "     'State': {'Code': 80, 'Name': 'stopped'},\n",
       "     'StateTransitionReason': 'User initiated (2020-12-24 05:45:41 GMT)',\n",
       "     'SubnetId': 'subnet-1d756d64',\n",
       "     'VpcId': 'vpc-a9b23dd1',\n",
       "     'Architecture': 'x86_64',\n",
       "     'BlockDeviceMappings': [{'DeviceName': '/dev/xvda',\n",
       "       'Ebs': {'AttachTime': datetime.datetime(2020, 12, 24, 5, 8, 32, tzinfo=tzutc()),\n",
       "        'DeleteOnTermination': True,\n",
       "        'Status': 'attached',\n",
       "        'VolumeId': 'vol-0f15822b8c668256e'}}],\n",
       "     'ClientToken': '',\n",
       "     'EbsOptimized': False,\n",
       "     'EnaSupport': True,\n",
       "     'Hypervisor': 'xen',\n",
       "     'NetworkInterfaces': [{'Attachment': {'AttachTime': datetime.datetime(2020, 12, 24, 5, 8, 31, tzinfo=tzutc()),\n",
       "        'AttachmentId': 'eni-attach-02ab13bd6764439af',\n",
       "        'DeleteOnTermination': True,\n",
       "        'DeviceIndex': 0,\n",
       "        'Status': 'attached',\n",
       "        'NetworkCardIndex': 0},\n",
       "       'Description': 'Primary network interface',\n",
       "       'Groups': [{'GroupName': 'EC2-Advance-1',\n",
       "         'GroupId': 'sg-0c3b4d70b7e7b0e80'}],\n",
       "       'Ipv6Addresses': [],\n",
       "       'MacAddress': '02:8f:26:6b:68:8d',\n",
       "       'NetworkInterfaceId': 'eni-02d6b46b15cd2df2d',\n",
       "       'OwnerId': '017852462880',\n",
       "       'PrivateDnsName': 'ip-172-31-17-166.us-west-2.compute.internal',\n",
       "       'PrivateIpAddress': '172.31.17.166',\n",
       "       'PrivateIpAddresses': [{'Primary': True,\n",
       "         'PrivateDnsName': 'ip-172-31-17-166.us-west-2.compute.internal',\n",
       "         'PrivateIpAddress': '172.31.17.166'}],\n",
       "       'SourceDestCheck': True,\n",
       "       'Status': 'in-use',\n",
       "       'SubnetId': 'subnet-1d756d64',\n",
       "       'VpcId': 'vpc-a9b23dd1',\n",
       "       'InterfaceType': 'interface'}],\n",
       "     'RootDeviceName': '/dev/xvda',\n",
       "     'RootDeviceType': 'ebs',\n",
       "     'SecurityGroups': [{'GroupName': 'EC2-Advance-1',\n",
       "       'GroupId': 'sg-0c3b4d70b7e7b0e80'}],\n",
       "     'SourceDestCheck': True,\n",
       "     'StateReason': {'Code': 'Client.UserInitiatedShutdown',\n",
       "      'Message': 'Client.UserInitiatedShutdown: User initiated shutdown'},\n",
       "     'Tags': [{'Key': 'Name', 'Value': 'Application EC2 1'}],\n",
       "     'VirtualizationType': 'hvm',\n",
       "     'CpuOptions': {'CoreCount': 1, 'ThreadsPerCore': 1},\n",
       "     'CapacityReservationSpecification': {'CapacityReservationPreference': 'open'},\n",
       "     'HibernationOptions': {'Configured': False},\n",
       "     'MetadataOptions': {'State': 'applied',\n",
       "      'HttpTokens': 'optional',\n",
       "      'HttpPutResponseHopLimit': 1,\n",
       "      'HttpEndpoint': 'enabled'},\n",
       "     'EnclaveOptions': {'Enabled': False}}],\n",
       "   'OwnerId': '017852462880',\n",
       "   'ReservationId': 'r-0a0120e24beb19072'}],\n",
       " 'ResponseMetadata': {'RequestId': 'd56c9b7e-1ed6-443b-89c3-59b81a9c0223',\n",
       "  'HTTPStatusCode': 200,\n",
       "  'HTTPHeaders': {'x-amzn-requestid': 'd56c9b7e-1ed6-443b-89c3-59b81a9c0223',\n",
       "   'content-type': 'text/xml;charset=UTF-8',\n",
       "   'transfer-encoding': 'chunked',\n",
       "   'vary': 'accept-encoding',\n",
       "   'date': 'Fri, 25 Dec 2020 06:28:06 GMT',\n",
       "   'server': 'AmazonEC2'},\n",
       "  'RetryAttempts': 0}}"
      ]
     },
     "metadata": {},
     "execution_count": 21
    }
   ],
   "source": [
    "ec2_client.describe_instances()"
   ]
  },
  {
   "cell_type": "code",
   "execution_count": null,
   "metadata": {},
   "outputs": [],
   "source": []
  }
 ]
}