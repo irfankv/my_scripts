{
 "metadata": {
  "language_info": {
   "codemirror_mode": {
    "name": "ipython",
    "version": 3
   },
   "file_extension": ".py",
   "mimetype": "text/x-python",
   "name": "python",
   "nbconvert_exporter": "python",
   "pygments_lexer": "ipython3",
   "version": "3.8.3-final"
  },
  "orig_nbformat": 2,
  "kernelspec": {
   "name": "python3",
   "display_name": "Python 3"
  }
 },
 "nbformat": 4,
 "nbformat_minor": 2,
 "cells": [
  {
   "source": [
    "Longest Substring Without Repeating Characters\n",
    "Medium\n",
    "\n",
    "11814\n",
    "\n",
    "637\n",
    "\n",
    "Add to List\n",
    "\n",
    "Share\n",
    "Given a string s, find the length of the longest substring without repeating characters.\n",
    "\n",
    " \n",
    "\n",
    "Example 1:\n",
    "\n",
    "Input: s = \"abcabcbb\"\n",
    "Output: 3\n",
    "Explanation: The answer is \"abc\", with the length of 3.\n",
    "Example 2:\n",
    "\n",
    "Input: s = \"bbbbb\"\n",
    "Output: 1\n",
    "Explanation: The answer is \"b\", with the length of 1.\n",
    "Example 3:\n",
    "\n",
    "Input: s = \"pwwkew\"\n",
    "Output: 3\n",
    "Explanation: The answer is \"wke\", with the length of 3.\n",
    "Notice that the answer must be a substring, \"pwke\" is a subsequence and not a substring.\n",
    "Example 4:\n",
    "\n",
    "Input: s = \"\"\n",
    "Output: 0"
   ],
   "cell_type": "markdown",
   "metadata": {}
  },
  {
   "cell_type": "code",
   "execution_count": 1,
   "metadata": {},
   "outputs": [],
   "source": [
    "class Solution:\n",
    "    def lengthOfLongestSubstring(self, s: str) -> int:\n",
    "        dct = {}\n",
    "        max_so_far = curr_max = start = 0\n",
    "        for index, i in enumerate(s):\n",
    "            if i in dct and dct[i] >= start:\n",
    "                max_so_far = max(max_so_far, curr_max)\n",
    "                curr_max = index - dct[i]\n",
    "                start = dct[i] + 1\n",
    "            else:\n",
    "                curr_max += 1\n",
    "            dct[i] = index\n",
    "        return max(max_so_far, curr_max)\n",
    "        "
   ]
  },
  {
   "cell_type": "code",
   "execution_count": 7,
   "metadata": {},
   "outputs": [
    {
     "output_type": "execute_result",
     "data": {
      "text/plain": [
       "3"
      ]
     },
     "metadata": {},
     "execution_count": 7
    }
   ],
   "source": [
    "long_sub = Solution()\n",
    "#long_sub.lengthOfLongestSubstring(\"pwwkew\")\n",
    "#long_sub.lengthOfLongestSubstring(\"bbbbb\")\n",
    "long_sub.lengthOfLongestSubstring(\"abcabcbb\")"
   ]
  },
  {
   "source": [
    "Map\n",
    "The map() function in python has the following syntax:\n",
    "\n",
    "map(func, *iterables)\n",
    "\n",
    "Where func is the function on which each element in iterables (as many as they are) would be applied on. Notice the asterisk(*) on iterables? It means there can be as many iterables as possible, in so far func has that exact number as required input arguments.\n",
    "\n",
    "map() function, we are going to use it to implement our own custom zip() function\n",
    "The zip() function is a function that takes a number of iterables and then creates a tuple containing each of the elements in the iterables. Like map(), in Python 3, it returns a generator object, which can be easily converted to a list by calling the built-in list function on it. Use the below interpreter session to get a grip of zip() before we create ours with map()"
   ],
   "cell_type": "markdown",
   "metadata": {}
  },
  {
   "cell_type": "code",
   "execution_count": 2,
   "metadata": {},
   "outputs": [
    {
     "output_type": "stream",
     "name": "stdout",
     "text": [
      "[('a', 1), ('e', 2), ('i', 3), ('o', 4), ('u', 5)]\n"
     ]
    }
   ],
   "source": [
    "#with ZIP \n",
    "my_string = ['a','e','i','o','u']\n",
    "my_num = [1,2,3,4,5]\n",
    "\n",
    "print(list(zip(my_string,my_num)))"
   ]
  },
  {
   "cell_type": "code",
   "execution_count": 3,
   "metadata": {},
   "outputs": [
    {
     "output_type": "stream",
     "name": "stdout",
     "text": [
      "[('a', 1), ('e', 2), ('i', 3), ('o', 4), ('u', 5)]\n"
     ]
    }
   ],
   "source": [
    "#without using ZIP\n",
    "\n",
    "print(list(map(lambda x,y: (x,y),my_string,my_num)))"
   ]
  },
  {
   "cell_type": "code",
   "execution_count": null,
   "metadata": {},
   "outputs": [],
   "source": []
  }
 ]
}