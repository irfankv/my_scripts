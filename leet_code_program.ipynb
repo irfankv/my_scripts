{
 "metadata": {
  "language_info": {
   "codemirror_mode": {
    "name": "ipython",
    "version": 3
   },
   "file_extension": ".py",
   "mimetype": "text/x-python",
   "name": "python",
   "nbconvert_exporter": "python",
   "pygments_lexer": "ipython3",
   "version": "3.8.3-final"
  },
  "orig_nbformat": 2,
  "kernelspec": {
   "name": "python3",
   "display_name": "Python 3"
  }
 },
 "nbformat": 4,
 "nbformat_minor": 2,
 "cells": [
  {
   "source": [
    "Longest Substring Without Repeating Characters\n",
    "Medium\n",
    "\n",
    "11814\n",
    "\n",
    "637\n",
    "\n",
    "Add to List\n",
    "\n",
    "Share\n",
    "Given a string s, find the length of the longest substring without repeating characters.\n",
    "\n",
    " \n",
    "\n",
    "Example 1:\n",
    "\n",
    "Input: s = \"abcabcbb\"\n",
    "Output: 3\n",
    "Explanation: The answer is \"abc\", with the length of 3.\n",
    "Example 2:\n",
    "\n",
    "Input: s = \"bbbbb\"\n",
    "Output: 1\n",
    "Explanation: The answer is \"b\", with the length of 1.\n",
    "Example 3:\n",
    "\n",
    "Input: s = \"pwwkew\"\n",
    "Output: 3\n",
    "Explanation: The answer is \"wke\", with the length of 3.\n",
    "Notice that the answer must be a substring, \"pwke\" is a subsequence and not a substring.\n",
    "Example 4:\n",
    "\n",
    "Input: s = \"\"\n",
    "Output: 0"
   ],
   "cell_type": "markdown",
   "metadata": {}
  },
  {
   "cell_type": "code",
   "execution_count": 1,
   "metadata": {},
   "outputs": [],
   "source": [
    "class Solution:\n",
    "    def lengthOfLongestSubstring(self, s: str) -> int:\n",
    "        dct = {}\n",
    "        max_so_far = curr_max = start = 0\n",
    "        for index, i in enumerate(s):\n",
    "            if i in dct and dct[i] >= start:\n",
    "                max_so_far = max(max_so_far, curr_max)\n",
    "                curr_max = index - dct[i]\n",
    "                start = dct[i] + 1\n",
    "            else:\n",
    "                curr_max += 1\n",
    "            dct[i] = index\n",
    "        return max(max_so_far, curr_max)\n",
    "        "
   ]
  },
  {
   "cell_type": "code",
   "execution_count": 7,
   "metadata": {},
   "outputs": [
    {
     "output_type": "execute_result",
     "data": {
      "text/plain": [
       "3"
      ]
     },
     "metadata": {},
     "execution_count": 7
    }
   ],
   "source": [
    "long_sub = Solution()\n",
    "#long_sub.lengthOfLongestSubstring(\"pwwkew\")\n",
    "#long_sub.lengthOfLongestSubstring(\"bbbbb\")\n",
    "long_sub.lengthOfLongestSubstring(\"abcabcbb\")"
   ]
  },
  {
   "source": [
    "Map\n",
    "The map() function in python has the following syntax:\n",
    "\n",
    "map(func, *iterables)\n",
    "\n",
    "Where func is the function on which each element in iterables (as many as they are) would be applied on. Notice the asterisk(*) on iterables? It means there can be as many iterables as possible, in so far func has that exact number as required input arguments.\n",
    "\n",
    "map() function, we are going to use it to implement our own custom zip() function\n",
    "The zip() function is a function that takes a number of iterables and then creates a tuple containing each of the elements in the iterables. Like map(), in Python 3, it returns a generator object, which can be easily converted to a list by calling the built-in list function on it. Use the below interpreter session to get a grip of zip() before we create ours with map()"
   ],
   "cell_type": "markdown",
   "metadata": {}
  },
  {
   "cell_type": "code",
   "execution_count": 2,
   "metadata": {},
   "outputs": [
    {
     "output_type": "stream",
     "name": "stdout",
     "text": [
      "[('a', 1), ('e', 2), ('i', 3), ('o', 4), ('u', 5)]\n"
     ]
    }
   ],
   "source": [
    "#with ZIP \n",
    "my_string = ['a','e','i','o','u']\n",
    "my_num = [1,2,3,4,5]\n",
    "\n",
    "print(list(zip(my_string,my_num)))"
   ]
  },
  {
   "cell_type": "code",
   "execution_count": 3,
   "metadata": {},
   "outputs": [
    {
     "output_type": "stream",
     "name": "stdout",
     "text": [
      "[('a', 1), ('e', 2), ('i', 3), ('o', 4), ('u', 5)]\n"
     ]
    }
   ],
   "source": [
    "#without using ZIP\n",
    "\n",
    "print(list(map(lambda x,y: (x,y),my_string,my_num)))"
   ]
  },
  {
   "source": [
    "Filter\n",
    "While map() passes each element in the iterable through a function and returns the result of all elements having passed through the function, filter(), first of all, requires the function to return boolean values (true or false) and then passes each element in the iterable through the function, \"filtering\" away those that are false. It has the following syntax:\n",
    "\n",
    "filter(func, iterable)\n",
    "\n",
    "The following points are to be noted regarding filter():\n",
    "\n",
    "Unlike map(), only one iterable is required.\n",
    "The func argument is required to return a boolean type. If it doesn't, filter simply returns the iterable passed to it. Also, as only one iterable is required, it's implicit that func must only take one argument.\n",
    "filter passes each element in the iterable through func and returns only the ones that evaluate to true. I mean, it's right there in the name -- a \"filter\".\n",
    "Let's see some examples\n",
    "\n",
    "The following is a list (iterable) of the scores of 10 students in a Chemistry exam. Let's filter out those who passed with scores more than 75...using filter."
   ],
   "cell_type": "markdown",
   "metadata": {}
  },
  {
   "cell_type": "code",
   "execution_count": 6,
   "metadata": {},
   "outputs": [
    {
     "output_type": "stream",
     "name": "stdout",
     "text": [
      "[77, 79, 99]\n"
     ]
    }
   ],
   "source": [
    "chem_score = [66,77,12,55,79,34,99]\n",
    "\n",
    "def check_scre(score):\n",
    "    return score > 75\n",
    "\n",
    "print(list(filter(check_scre,chem_score)))\n"
   ]
  },
  {
   "source": [
    "#Program check if give word is pallindrom number or not\n",
    "\n",
    "words = [\"nitin\",\"pasha\",\"madam\",\"abccba\"]\n",
    "\n",
    "print(list(filter(lambda word: word == word[::-1],words)))"
   ],
   "cell_type": "code",
   "metadata": {},
   "execution_count": 8,
   "outputs": [
    {
     "output_type": "stream",
     "name": "stdout",
     "text": [
      "['nitin', 'madam', 'abccba']\n"
     ]
    }
   ]
  },
  {
   "cell_type": "code",
   "execution_count": 12,
   "metadata": {},
   "outputs": [
    {
     "output_type": "stream",
     "name": "stdout",
     "text": [
      "[2, 4, 6]\n"
     ]
    }
   ],
   "source": [
    "num = [2,4,6,1,13]\n",
    "\n",
    "print(list(filter(lambda no: no %2==0,num)))"
   ]
  },
  {
   "cell_type": "code",
   "execution_count": 4,
   "metadata": {},
   "outputs": [
    {
     "output_type": "stream",
     "name": "stdout",
     "text": [
      "[18.922499999999996, 37.0881, 10.5625, 95.45289999999999, 4.6656, 78.85440000000001, 21.068099999999998]\n['olumide', 'akinremi', 'josiah', 'temidayo', 'omoseun']\n0\n"
     ]
    }
   ],
   "source": [
    "from functools import reduce \n",
    "\n",
    "# Use map to print the square of each numbers rounded\n",
    "# to two decimal places\n",
    "my_floats = [4.35, 6.09, 3.25, 9.77, 2.16, 8.88, 4.59]\n",
    "\n",
    "# Use filter to print only the names that are less than \n",
    "# or equal to seven letters\n",
    "my_names = [\"olumide\", \"akinremi\", \"josiah\", \"temidayo\", \"omoseun\"]\n",
    "\n",
    "# Use reduce to print the product of these numbers\n",
    "my_numbers = [4, 6, 9, 23, 5]\n",
    "\n",
    "# Fix all three respectively.\n",
    "map_result = list(map(lambda x: x**2, my_floats))\n",
    "filter_result = list(filter(lambda name: name, my_names))\n",
    "reduce_result = reduce(lambda num1, num2: num1 * num2, my_numbers, 0)\n",
    "\n",
    "print(map_result)\n",
    "print(filter_result)\n",
    "print(reduce_result)"
   ]
  },
  {
   "source": [
    "count the vowels presest given sentences words,\n",
    "\n",
    "example:\n",
    "sente = \"biden is selected president\"\n",
    "it should return 5"
   ],
   "cell_type": "markdown",
   "metadata": {}
  },
  {
   "cell_type": "code",
   "execution_count": 2,
   "metadata": {},
   "outputs": [],
   "source": [
    "def count_vowels(words):\n",
    "    b = 0\n",
    "    for i in words:\n",
    "        a = (\n",
    "            i.count(\"a\")\n",
    "            + i.count(\"e\")\n",
    "            + i.count(\"i\")\n",
    "            + i.count(\"o\")\n",
    "            + i.count(\"u\")\n",
    "            + i.count(\"y\")\n",
    "        )\n",
    "        if a % 2 == 0:\n",
    "            b = b + 2\n",
    "        else:\n",
    "            b = b + 1\n",
    "    return b\n",
    "#another way to write\n",
    "def score_words(words):\n",
    "    return sum(sum(char in 'aeiouy' for char in word) % 2 or 2 for word in words)"
   ]
  },
  {
   "cell_type": "code",
   "execution_count": null,
   "metadata": {},
   "outputs": [],
   "source": []
  },
  {
   "source": [
    "Import Python Debuggers:\n",
    "\n",
    "from IPython import embed; embed()\n",
    "\n",
    "import pdb; pdb.set_trace()\n",
    "\n",
    "import ipdb; ipdb.set_trace()\n",
    "\n",
    "%run -d filename.py\n",
    "\n",
    "IPython has another way to start a debugger. You don’t need to modify the source code of any file as we did before. If you run the %run -d filename.py magic command, IPython will execute the filename.py file and put a breakpoint on the first line there. It’s just as if you would put the import ipdb; ipdb.set_trace() manually inside the filename.py file and run it with python filename.py command.\n",
    "\n",
    "If you want to put the breakpoint somewhere else than the first line, you can use the -b parameter. The following code will put the breakpoint on line 42:\n",
    "\n",
    "%run -d -b42 filename.py\n",
    "\n",
    "Keep in mind that the line that you specify has to contain code that actually does something. It can’t be an empty line or a comment!\n",
    "\n",
    "Finally, there might be a situation where you want to put a breakpoint in a different file than the one that you will run. For example, the bug might be hidden in one of the imported modules and you don’t want to type next 100 times to get there. The -b option can accept a file name followed by a colon and a line number to specify where exactly you want to put the breakpoint:\n",
    "\n",
    "%run -d -b myotherfile.py:42 myscript.py\n",
    "\n",
    "The above code will put a breakpoint on line 42 in a file called myotherfile.py and then start executing file myscript.py. Once the Python interpreter gets to myotherfile.py, it will stop at the breakpoint.\n"
   ],
   "cell_type": "markdown",
   "metadata": {}
  },
  {
   "cell_type": "code",
   "execution_count": null,
   "metadata": {},
   "outputs": [],
   "source": []
  }
 ]
}